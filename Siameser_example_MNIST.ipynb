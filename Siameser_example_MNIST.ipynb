{
  "nbformat": 4,
  "nbformat_minor": 0,
  "metadata": {
    "colab": {
      "name": "Siameser.ipynb",
      "provenance": [],
      "collapsed_sections": []
    },
    "kernelspec": {
      "name": "python3",
      "display_name": "Python 3"
    },
    "accelerator": "GPU"
  },
  "cells": [
    {
      "cell_type": "code",
      "metadata": {
        "id": "6P7sDGrDUgAd",
        "colab_type": "code",
        "outputId": "60e9c8c2-cbb7-474e-bd40-34705c383429",
        "colab": {
          "base_uri": "https://localhost:8080/",
          "height": 34
        }
      },
      "source": [
        "import matplotlib.pyplot as plt\n",
        "import numpy as np\n",
        "\n",
        "from keras.applications.vgg16 import VGG16\n",
        "from keras.models import  Sequential, Model\n",
        "from keras.layers import Input, Conv2D, Dense,Flatten\n",
        "from keras.optimizers import Adam\n",
        "from keras.utils import to_categorical\n"
      ],
      "execution_count": 1,
      "outputs": [
        {
          "output_type": "stream",
          "text": [
            "Using TensorFlow backend.\n"
          ],
          "name": "stderr"
        }
      ]
    },
    {
      "cell_type": "code",
      "metadata": {
        "id": "FNAvteLmUnZr",
        "colab_type": "code",
        "outputId": "18a92516-d800-4e84-c94d-90076ff4644e",
        "colab": {
          "base_uri": "https://localhost:8080/",
          "height": 121
        }
      },
      "source": [
        "!git clone https://github.com/aielawady/Siameser.git\n",
        "import Siameser.core as core\n",
        "import Siameser.utils as utils"
      ],
      "execution_count": 2,
      "outputs": [
        {
          "output_type": "stream",
          "text": [
            "Cloning into 'Siameser'...\n",
            "remote: Enumerating objects: 50, done.\u001b[K\n",
            "remote: Counting objects: 100% (50/50), done.\u001b[K\n",
            "remote: Compressing objects: 100% (37/37), done.\u001b[K\n",
            "remote: Total 50 (delta 23), reused 27 (delta 10), pack-reused 0\u001b[K\n",
            "Unpacking objects: 100% (50/50), done.\n"
          ],
          "name": "stdout"
        }
      ]
    },
    {
      "cell_type": "code",
      "metadata": {
        "id": "6EL6ScbejO5W",
        "colab_type": "code",
        "colab": {}
      },
      "source": [
        "# !wget https://www.cs.toronto.edu/~kriz/cifar-10-python.tar.gz\n",
        "# !tar -xf cifar-10-python.tar.gz\n",
        "\n",
        "# import pickle\n",
        "# def unpickle(file):\n",
        "#     import pickle\n",
        "#     with open(file, 'rb') as fo:\n",
        "#         dict = pickle.load(fo, encoding='bytes')\n",
        "#     return dict\n",
        "\n",
        "# train_x = unpickle('cifar-10-batches-py/data_batch_1')[b'data']\n",
        "# train_y = np.array(unpickle('cifar-10-batches-py/data_batch_1')[b'labels'])\n",
        "\n",
        "# for i in range(1,6):\n",
        "#   batch = unpickle('cifar-10-batches-py/data_batch_'+str(i))\n",
        "#   train_x = np.append(train_x,batch[b'data'], axis=0)\n",
        "#   train_y = np.append(train_y,batch[b'labels'], axis=0)\n",
        "\n",
        "# train_x = train_x.reshape(60000,3,32,32).transpose(0,2,3,1)\n",
        "# train_y = np.array(train_y)\n",
        "\n",
        "# batch = unpickle('cifar-10-batches-py/test_batch')\n",
        "# test_x = batch[b'data']\n",
        "# test_y = np.array(batch[b'labels'])\n",
        "# test_x = test_x.reshape(10000,3,32,32).transpose(0,2,3,1)\n",
        "# test_y = np.array(test_y)"
      ],
      "execution_count": 0,
      "outputs": []
    },
    {
      "cell_type": "code",
      "metadata": {
        "id": "MRWRWLSmNizC",
        "colab_type": "code",
        "colab": {
          "base_uri": "https://localhost:8080/",
          "height": 957
        },
        "outputId": "c5a0d9fc-76f5-40b5-a7bd-bfbe4d8994e3"
      },
      "source": [
        "!pip install python-mnist\n",
        "!wget http://yann.lecun.com/exdb/mnist/train-images-idx3-ubyte.gz\n",
        "!wget http://yann.lecun.com/exdb/mnist/train-labels-idx1-ubyte.gz\n",
        "!wget http://yann.lecun.com/exdb/mnist/t10k-images-idx3-ubyte.gz\n",
        "!wget http://yann.lecun.com/exdb/mnist/t10k-labels-idx1-ubyte.gz"
      ],
      "execution_count": 4,
      "outputs": [
        {
          "output_type": "stream",
          "text": [
            "Collecting python-mnist\n",
            "  Downloading https://files.pythonhosted.org/packages/05/9c/f1c1e4d011b01ac436bba0ac6715b3f988bb7f8fec6f21f89cf820aa33e1/python-mnist-0.6.tar.gz\n",
            "Building wheels for collected packages: python-mnist\n",
            "  Building wheel for python-mnist (setup.py) ... \u001b[?25l\u001b[?25hdone\n",
            "  Created wheel for python-mnist: filename=python_mnist-0.6-py2.py3-none-any.whl size=11662 sha256=0c8ee3827684e5e0491b4b283bb766063905385da597e17c9b508fa3d18a6116\n",
            "  Stored in directory: /root/.cache/pip/wheels/28/29/36/408f83545a511c43d03ef997a1dc99b49ccd5f9f306ed92468\n",
            "Successfully built python-mnist\n",
            "Installing collected packages: python-mnist\n",
            "Successfully installed python-mnist-0.6\n",
            "--2019-09-28 14:50:09--  http://yann.lecun.com/exdb/mnist/train-images-idx3-ubyte.gz\n",
            "Resolving yann.lecun.com (yann.lecun.com)... 216.165.22.6\n",
            "Connecting to yann.lecun.com (yann.lecun.com)|216.165.22.6|:80... connected.\n",
            "HTTP request sent, awaiting response... 200 OK\n",
            "Length: 9912422 (9.5M) [application/x-gzip]\n",
            "Saving to: ‘train-images-idx3-ubyte.gz’\n",
            "\n",
            "train-images-idx3-u 100%[===================>]   9.45M  5.87MB/s    in 1.6s    \n",
            "\n",
            "2019-09-28 14:50:12 (5.87 MB/s) - ‘train-images-idx3-ubyte.gz’ saved [9912422/9912422]\n",
            "\n",
            "--2019-09-28 14:50:13--  http://yann.lecun.com/exdb/mnist/train-labels-idx1-ubyte.gz\n",
            "Resolving yann.lecun.com (yann.lecun.com)... 216.165.22.6\n",
            "Connecting to yann.lecun.com (yann.lecun.com)|216.165.22.6|:80... connected.\n",
            "HTTP request sent, awaiting response... 200 OK\n",
            "Length: 28881 (28K) [application/x-gzip]\n",
            "Saving to: ‘train-labels-idx1-ubyte.gz’\n",
            "\n",
            "train-labels-idx1-u 100%[===================>]  28.20K   171KB/s    in 0.2s    \n",
            "\n",
            "2019-09-28 14:50:14 (171 KB/s) - ‘train-labels-idx1-ubyte.gz’ saved [28881/28881]\n",
            "\n",
            "--2019-09-28 14:50:15--  http://yann.lecun.com/exdb/mnist/t10k-images-idx3-ubyte.gz\n",
            "Resolving yann.lecun.com (yann.lecun.com)... 216.165.22.6\n",
            "Connecting to yann.lecun.com (yann.lecun.com)|216.165.22.6|:80... connected.\n",
            "HTTP request sent, awaiting response... 200 OK\n",
            "Length: 1648877 (1.6M) [application/x-gzip]\n",
            "Saving to: ‘t10k-images-idx3-ubyte.gz’\n",
            "\n",
            "t10k-images-idx3-ub 100%[===================>]   1.57M  1.38MB/s    in 1.1s    \n",
            "\n",
            "2019-09-28 14:50:17 (1.38 MB/s) - ‘t10k-images-idx3-ubyte.gz’ saved [1648877/1648877]\n",
            "\n",
            "--2019-09-28 14:50:19--  http://yann.lecun.com/exdb/mnist/t10k-labels-idx1-ubyte.gz\n",
            "Resolving yann.lecun.com (yann.lecun.com)... 216.165.22.6\n",
            "Connecting to yann.lecun.com (yann.lecun.com)|216.165.22.6|:80... connected.\n",
            "HTTP request sent, awaiting response... 200 OK\n",
            "Length: 4542 (4.4K) [application/x-gzip]\n",
            "Saving to: ‘t10k-labels-idx1-ubyte.gz’\n",
            "\n",
            "t10k-labels-idx1-ub 100%[===================>]   4.44K  --.-KB/s    in 0s      \n",
            "\n",
            "2019-09-28 14:50:19 (325 MB/s) - ‘t10k-labels-idx1-ubyte.gz’ saved [4542/4542]\n",
            "\n"
          ],
          "name": "stdout"
        }
      ]
    },
    {
      "cell_type": "code",
      "metadata": {
        "id": "S7ra6sWtBjRo",
        "colab_type": "code",
        "colab": {}
      },
      "source": [
        "from mnist import MNIST\n",
        "mnist = MNIST('.')\n",
        "mnist.gz = True\n",
        "train_x, train_y = mnist.load_training()\n",
        "test_x, test_y = mnist.load_testing()\n",
        "\n",
        "train_x = np.expand_dims(np.array(train_x).reshape(-1,28,28), axis=3)/255\n",
        "train_y = np.array(train_y)\n",
        "test_x = np.expand_dims(np.array(test_x).reshape(-1,28,28), axis=3)/255\n",
        "test_y = np.array(test_y)"
      ],
      "execution_count": 0,
      "outputs": []
    },
    {
      "cell_type": "code",
      "metadata": {
        "id": "ps2124iEN-Wp",
        "colab_type": "code",
        "colab": {
          "base_uri": "https://localhost:8080/",
          "height": 34
        },
        "outputId": "cf8539dd-15af-4df4-8afa-ed9230697c3d"
      },
      "source": [
        "train_x.shape"
      ],
      "execution_count": 6,
      "outputs": [
        {
          "output_type": "execute_result",
          "data": {
            "text/plain": [
              "(60000, 28, 28, 1)"
            ]
          },
          "metadata": {
            "tags": []
          },
          "execution_count": 6
        }
      ]
    },
    {
      "cell_type": "code",
      "metadata": {
        "id": "acNht6wJBvHm",
        "colab_type": "code",
        "outputId": "cb78c5a0-ce1b-4257-cb1d-5cd4e4dc39f9",
        "colab": {
          "base_uri": "https://localhost:8080/",
          "height": 286
        }
      },
      "source": [
        "plt.imshow(train_x[30000].squeeze(), cmap='gray')\n",
        "print(train_y[30000])"
      ],
      "execution_count": 7,
      "outputs": [
        {
          "output_type": "stream",
          "text": [
            "3\n"
          ],
          "name": "stdout"
        },
        {
          "output_type": "display_data",
          "data": {
            "image/png": "[encoded data removed]",
            "text/plain": [
              "<Figure size 432x288 with 1 Axes>"
            ]
          },
          "metadata": {
            "tags": []
          }
        }
      ]
    },
    {
      "cell_type": "code",
      "metadata": {
        "id": "buXFLnaIEhEy",
        "colab_type": "code",
        "outputId": "b11a5177-fa28-4cfe-9afe-eaefd7c77913",
        "colab": {
          "base_uri": "https://localhost:8080/",
          "height": 469
        }
      },
      "source": [
        "train_siamese = utils.tripler(np.arange(len(train_x)), train_y, classnames=set(train_y))\n",
        "assert(utils.triplets_checker(np.arange(len(train_x)), train_y, train_siamese))\n",
        "utils.triplets_dist_display(np.arange(len(train_x)), train_y, train_siamese)"
      ],
      "execution_count": 8,
      "outputs": [
        {
          "output_type": "stream",
          "text": [
            "Anchor histogram:\n",
            " [5889 6876 6082 6159 5892 5328 5764 6209 5838 5963] \n",
            "\n",
            " Anchors-Positives histogram:\n",
            " [[5889.    0.    0.    0.    0.    0.    0.    0.    0.    0.]\n",
            " [   0. 6876.    0.    0.    0.    0.    0.    0.    0.    0.]\n",
            " [   0.    0. 6082.    0.    0.    0.    0.    0.    0.    0.]\n",
            " [   0.    0.    0. 6159.    0.    0.    0.    0.    0.    0.]\n",
            " [   0.    0.    0.    0. 5892.    0.    0.    0.    0.    0.]\n",
            " [   0.    0.    0.    0.    0. 5328.    0.    0.    0.    0.]\n",
            " [   0.    0.    0.    0.    0.    0. 5764.    0.    0.    0.]\n",
            " [   0.    0.    0.    0.    0.    0.    0. 6209.    0.    0.]\n",
            " [   0.    0.    0.    0.    0.    0.    0.    0. 5838.    0.]\n",
            " [   0.    0.    0.    0.    0.    0.    0.    0.    0. 5963.]] \n",
            "\n",
            " Anchors-Negatives histogram:\n",
            " [[  0. 744. 601. 687. 632. 559. 617. 675. 677. 697.]\n",
            " [766.   0. 809. 774. 780. 692. 767. 789. 766. 733.]\n",
            " [684. 754.   0. 693. 653. 676. 681. 697. 562. 682.]\n",
            " [650. 821. 695.   0. 689. 583. 655. 697. 678. 691.]\n",
            " [682. 731. 665. 661.   0. 563. 606. 684. 644. 656.]\n",
            " [601. 626. 549. 605. 585.   0. 573. 609. 572. 608.]\n",
            " [636. 737. 615. 654. 626. 592.   0. 661. 624. 619.]\n",
            " [706. 800. 709. 689. 646. 563. 678.   0. 694. 724.]\n",
            " [671. 732. 648. 659. 610. 574. 626. 668.   0. 650.]\n",
            " [685. 721. 655. 683. 643. 604. 669. 658. 645.   0.]]\n"
          ],
          "name": "stdout"
        }
      ]
    },
    {
      "cell_type": "code",
      "metadata": {
        "id": "7nG2H3EhM665",
        "colab_type": "code",
        "outputId": "64fb00c6-7002-475f-abbb-b9d0af8eb53f",
        "colab": {
          "base_uri": "https://localhost:8080/",
          "height": 940
        }
      },
      "source": [
        "x_input = Input(shape=(28,28,1))\n",
        "# base_model = VGG16(include_top=False, input_tensor=x_input, weights='imagenet', input_shape=(32,32,3), pooling='Max')\n",
        "# x = base_model.output\n",
        "x = Conv2D(8, (3,3), padding='same', activation='relu')(x_input)\n",
        "x = Conv2D(8, (3,3), padding='same', activation='relu')(x)\n",
        "x = Conv2D(8, (3,3), padding='same', activation='relu')(x)\n",
        "x = Conv2D(16, (3,3), padding='same', activation='relu')(x)\n",
        "x = Conv2D(16, (3,3), padding='same', activation='relu')(x)\n",
        "x = Conv2D(16, (3,3), padding='same', activation='relu')(x)\n",
        "x = Conv2D(16, (3,3), padding='same', activation='relu')(x)\n",
        "x = Conv2D(32, (3,3), padding='same', activation='relu')(x)\n",
        "x = Conv2D(32, (3,3), padding='same', activation='relu')(x)\n",
        "x = Conv2D(32, (3,3), padding='same', activation='relu')(x)\n",
        "x = Conv2D(64, (3,3), padding='same', activation='relu')(x)\n",
        "x = Conv2D(64, (3,3), padding='same', activation='relu')(x)\n",
        "x = Conv2D(128, (3,3), padding='same', activation='relu')(x)\n",
        "x = Conv2D(128, (3,3), padding='same', activation='relu')(x)\n",
        "x = Conv2D(128, (3,3), padding='same', activation='relu')(x)\n",
        "x = Conv2D(8, (1,1), padding='same', activation='relu')(x)\n",
        "x = Flatten()(x)\n",
        "x = Dense(128, activation='tanh')(x)\n",
        "feature_extractor = Model(inputs=x_input, outputs=[x], name='fextractor_model')\n",
        "feature_extractor.summary()\n"
      ],
      "execution_count": 9,
      "outputs": [
        {
          "output_type": "stream",
          "text": [
            "WARNING:tensorflow:From /usr/local/lib/python3.6/dist-packages/keras/backend/tensorflow_backend.py:66: The name tf.get_default_graph is deprecated. Please use tf.compat.v1.get_default_graph instead.\n",
            "\n",
            "WARNING:tensorflow:From /usr/local/lib/python3.6/dist-packages/keras/backend/tensorflow_backend.py:541: The name tf.placeholder is deprecated. Please use tf.compat.v1.placeholder instead.\n",
            "\n",
            "WARNING:tensorflow:From /usr/local/lib/python3.6/dist-packages/keras/backend/tensorflow_backend.py:4432: The name tf.random_uniform is deprecated. Please use tf.random.uniform instead.\n",
            "\n",
            "Model: \"fextractor_model\"\n",
            "_________________________________________________________________\n",
            "Layer (type)                 Output Shape              Param #   \n",
            "=================================================================\n",
            "input_1 (InputLayer)         (None, 28, 28, 1)         0         \n",
            "_________________________________________________________________\n",
            "conv2d_1 (Conv2D)            (None, 28, 28, 8)         80        \n",
            "_________________________________________________________________\n",
            "conv2d_2 (Conv2D)            (None, 28, 28, 8)         584       \n",
            "_________________________________________________________________\n",
            "conv2d_3 (Conv2D)            (None, 28, 28, 8)         584       \n",
            "_________________________________________________________________\n",
            "conv2d_4 (Conv2D)            (None, 28, 28, 16)        1168      \n",
            "_________________________________________________________________\n",
            "conv2d_5 (Conv2D)            (None, 28, 28, 16)        2320      \n",
            "_________________________________________________________________\n",
            "conv2d_6 (Conv2D)            (None, 28, 28, 16)        2320      \n",
            "_________________________________________________________________\n",
            "conv2d_7 (Conv2D)            (None, 28, 28, 16)        2320      \n",
            "_________________________________________________________________\n",
            "conv2d_8 (Conv2D)            (None, 28, 28, 32)        4640      \n",
            "_________________________________________________________________\n",
            "conv2d_9 (Conv2D)            (None, 28, 28, 32)        9248      \n",
            "_________________________________________________________________\n",
            "conv2d_10 (Conv2D)           (None, 28, 28, 32)        9248      \n",
            "_________________________________________________________________\n",
            "conv2d_11 (Conv2D)           (None, 28, 28, 64)        18496     \n",
            "_________________________________________________________________\n",
            "conv2d_12 (Conv2D)           (None, 28, 28, 64)        36928     \n",
            "_________________________________________________________________\n",
            "conv2d_13 (Conv2D)           (None, 28, 28, 128)       73856     \n",
            "_________________________________________________________________\n",
            "conv2d_14 (Conv2D)           (None, 28, 28, 128)       147584    \n",
            "_________________________________________________________________\n",
            "conv2d_15 (Conv2D)           (None, 28, 28, 128)       147584    \n",
            "_________________________________________________________________\n",
            "conv2d_16 (Conv2D)           (None, 28, 28, 8)         1032      \n",
            "_________________________________________________________________\n",
            "flatten_1 (Flatten)          (None, 6272)              0         \n",
            "_________________________________________________________________\n",
            "dense_1 (Dense)              (None, 128)               802944    \n",
            "=================================================================\n",
            "Total params: 1,260,936\n",
            "Trainable params: 1,260,936\n",
            "Non-trainable params: 0\n",
            "_________________________________________________________________\n"
          ],
          "name": "stdout"
        }
      ]
    },
    {
      "cell_type": "code",
      "metadata": {
        "id": "211Cr4WXP5Qe",
        "colab_type": "code",
        "outputId": "8f0dad87-a2e6-48ea-eacd-f3b6a1c5166b",
        "colab": {
          "base_uri": "https://localhost:8080/",
          "height": 419
        }
      },
      "source": [
        "siamese_model = core.siamese_modeller(feature_extractor,input_shape=(28,28,1))\n",
        "X_loaded = [np.zeros((60000, 28,28, 1), dtype='float32') for i in range(3)]\n",
        "for i, ID in enumerate(train_siamese.T):\n",
        "    for j in range(3):\n",
        "        X_loaded[j][i,:,:,:] = train_x[ID[j]]\n",
        "\n",
        "siamese_model.compile(optimizer=Adam(1e-4),\n",
        "                      loss=core.loss(0.2),\n",
        "                      metrics=[core.metric])\n",
        "siamese_model.fit(X_loaded, np.zeros((len(X_loaded[0]),)), batch_size=128, epochs=5)"
      ],
      "execution_count": 10,
      "outputs": [
        {
          "output_type": "stream",
          "text": [
            "Creating and training the model...\n",
            "Stacking the layers...\n",
            "WARNING:tensorflow:From /usr/local/lib/python3.6/dist-packages/keras/optimizers.py:793: The name tf.train.Optimizer is deprecated. Please use tf.compat.v1.train.Optimizer instead.\n",
            "\n",
            "WARNING:tensorflow:From /usr/local/lib/python3.6/dist-packages/tensorflow/python/ops/math_grad.py:1250: add_dispatch_support.<locals>.wrapper (from tensorflow.python.ops.array_ops) is deprecated and will be removed in a future version.\n",
            "Instructions for updating:\n",
            "Use tf.where in 2.0, which has the same broadcast rule as np.where\n",
            "WARNING:tensorflow:From /usr/local/lib/python3.6/dist-packages/keras/backend/tensorflow_backend.py:1033: The name tf.assign_add is deprecated. Please use tf.compat.v1.assign_add instead.\n",
            "\n",
            "WARNING:tensorflow:From /usr/local/lib/python3.6/dist-packages/keras/backend/tensorflow_backend.py:1020: The name tf.assign is deprecated. Please use tf.compat.v1.assign instead.\n",
            "\n",
            "Epoch 1/5\n",
            "60000/60000 [==============================] - 92s 2ms/step - loss: 0.0308 - metric: 0.9456\n",
            "Epoch 2/5\n",
            "60000/60000 [==============================] - 85s 1ms/step - loss: 0.0071 - metric: 0.9868\n",
            "Epoch 3/5\n",
            "60000/60000 [==============================] - 86s 1ms/step - loss: 0.0046 - metric: 0.9915\n",
            "Epoch 4/5\n",
            "60000/60000 [==============================] - 86s 1ms/step - loss: 0.0035 - metric: 0.9939\n",
            "Epoch 5/5\n",
            "60000/60000 [==============================] - 86s 1ms/step - loss: 0.0026 - metric: 0.9948\n"
          ],
          "name": "stdout"
        },
        {
          "output_type": "execute_result",
          "data": {
            "text/plain": [
              "<keras.callbacks.History at 0x7f1f0553eb70>"
            ]
          },
          "metadata": {
            "tags": []
          },
          "execution_count": 10
        }
      ]
    },
    {
      "cell_type": "code",
      "metadata": {
        "id": "DLKXphqTmBWP",
        "colab_type": "code",
        "outputId": "cdfa9b10-299b-43fe-d8be-82ad6f1fff51",
        "colab": {
          "base_uri": "https://localhost:8080/",
          "height": 260
        }
      },
      "source": [
        "for layer in feature_extractor.layers:\n",
        "  layer.trainable=False\n",
        "x_in = Input(shape=(28,28,1))\n",
        "x = feature_extractor(x_in)\n",
        "x = Dense(10, activation='softmax')(x)\n",
        "classifier = Model(inputs=[x_in], outputs=[x])\n",
        "classifier.compile(optimizer='adam',\n",
        "                      loss='categorical_crossentropy',\n",
        "                      metrics=['accuracy'])\n",
        "classifier.summary()"
      ],
      "execution_count": 11,
      "outputs": [
        {
          "output_type": "stream",
          "text": [
            "Model: \"model_2\"\n",
            "_________________________________________________________________\n",
            "Layer (type)                 Output Shape              Param #   \n",
            "=================================================================\n",
            "input_5 (InputLayer)         (None, 28, 28, 1)         0         \n",
            "_________________________________________________________________\n",
            "fextractor_model (Model)     (None, 128)               1260936   \n",
            "_________________________________________________________________\n",
            "dense_2 (Dense)              (None, 10)                1290      \n",
            "=================================================================\n",
            "Total params: 1,262,226\n",
            "Trainable params: 1,290\n",
            "Non-trainable params: 1,260,936\n",
            "_________________________________________________________________\n"
          ],
          "name": "stdout"
        }
      ]
    },
    {
      "cell_type": "code",
      "metadata": {
        "id": "UcTtTw4YmI3E",
        "colab_type": "code",
        "colab": {
          "base_uri": "https://localhost:8080/",
          "height": 399
        },
        "outputId": "33d3f573-f2de-46cf-dc17-ca9eeb8f72a2"
      },
      "source": [
        "train_y = to_categorical(train_y)\n",
        "test_y = to_categorical(test_y)\n",
        "\n",
        "classifier.fit(train_x, train_y, batch_size=128, epochs=10, validation_data=(test_x, test_y))"
      ],
      "execution_count": 12,
      "outputs": [
        {
          "output_type": "stream",
          "text": [
            "Train on 60000 samples, validate on 10000 samples\n",
            "Epoch 1/10\n",
            "60000/60000 [==============================] - 13s 221us/step - loss: 1.1582 - acc: 0.8621 - val_loss: 0.5178 - val_acc: 0.9758\n",
            "Epoch 2/10\n",
            "60000/60000 [==============================] - 13s 215us/step - loss: 0.3503 - acc: 0.9785 - val_loss: 0.2327 - val_acc: 0.9795\n",
            "Epoch 3/10\n",
            "60000/60000 [==============================] - 13s 214us/step - loss: 0.1933 - acc: 0.9803 - val_loss: 0.1503 - val_acc: 0.9803\n",
            "Epoch 4/10\n",
            "60000/60000 [==============================] - 13s 215us/step - loss: 0.1374 - acc: 0.9809 - val_loss: 0.1139 - val_acc: 0.9813\n",
            "Epoch 5/10\n",
            "60000/60000 [==============================] - 13s 214us/step - loss: 0.1096 - acc: 0.9813 - val_loss: 0.0940 - val_acc: 0.9815\n",
            "Epoch 6/10\n",
            "60000/60000 [==============================] - 13s 216us/step - loss: 0.0934 - acc: 0.9816 - val_loss: 0.0817 - val_acc: 0.9821\n",
            "Epoch 7/10\n",
            "60000/60000 [==============================] - 13s 215us/step - loss: 0.0828 - acc: 0.9819 - val_loss: 0.0733 - val_acc: 0.9817\n",
            "Epoch 8/10\n",
            "60000/60000 [==============================] - 13s 215us/step - loss: 0.0755 - acc: 0.9819 - val_loss: 0.0673 - val_acc: 0.9821\n",
            "Epoch 9/10\n",
            "60000/60000 [==============================] - 13s 217us/step - loss: 0.0702 - acc: 0.9821 - val_loss: 0.0631 - val_acc: 0.9822\n",
            "Epoch 10/10\n",
            "60000/60000 [==============================] - 13s 215us/step - loss: 0.0662 - acc: 0.9824 - val_loss: 0.0598 - val_acc: 0.9825\n"
          ],
          "name": "stdout"
        },
        {
          "output_type": "execute_result",
          "data": {
            "text/plain": [
              "<keras.callbacks.History at 0x7f1f065728d0>"
            ]
          },
          "metadata": {
            "tags": []
          },
          "execution_count": 12
        }
      ]
    },
    {
      "cell_type": "code",
      "metadata": {
        "id": "V_QvWV_NgU3W",
        "colab_type": "code",
        "outputId": "a0cca614-2eeb-46da-e3cf-e5d37a4ceabd",
        "colab": {
          "base_uri": "https://localhost:8080/",
          "height": 260
        }
      },
      "source": [
        "for layer in classifier.get_layer('fextractor_model').layers:\n",
        "  layer.trainable=False\n",
        "for layer in classifier.get_layer('fextractor_model').layers[-3:]:\n",
        "  layer.trainable=True\n",
        "\n",
        "classifier.compile(optimizer=Adam(1e-4),\n",
        "                      loss='categorical_crossentropy',\n",
        "                      metrics=['accuracy'])\n",
        "classifier.summary()"
      ],
      "execution_count": 13,
      "outputs": [
        {
          "output_type": "stream",
          "text": [
            "Model: \"model_2\"\n",
            "_________________________________________________________________\n",
            "Layer (type)                 Output Shape              Param #   \n",
            "=================================================================\n",
            "input_5 (InputLayer)         (None, 28, 28, 1)         0         \n",
            "_________________________________________________________________\n",
            "fextractor_model (Model)     (None, 128)               1260936   \n",
            "_________________________________________________________________\n",
            "dense_2 (Dense)              (None, 10)                1290      \n",
            "=================================================================\n",
            "Total params: 1,262,226\n",
            "Trainable params: 805,266\n",
            "Non-trainable params: 456,960\n",
            "_________________________________________________________________\n"
          ],
          "name": "stdout"
        }
      ]
    },
    {
      "cell_type": "code",
      "metadata": {
        "id": "R6f3CX3Tg8qh",
        "colab_type": "code",
        "outputId": "eb5ff9ca-d38d-4ac7-fee1-2b814614ed97",
        "colab": {
          "base_uri": "https://localhost:8080/",
          "height": 399
        }
      },
      "source": [
        "classifier.fit(train_x, train_y, batch_size=64, epochs=10, validation_data=(test_x, test_y))"
      ],
      "execution_count": 14,
      "outputs": [
        {
          "output_type": "stream",
          "text": [
            "Train on 60000 samples, validate on 10000 samples\n",
            "Epoch 1/10\n",
            "60000/60000 [==============================] - 16s 268us/step - loss: 0.0504 - acc: 0.9849 - val_loss: 0.0413 - val_acc: 0.9865\n",
            "Epoch 2/10\n",
            "60000/60000 [==============================] - 15s 258us/step - loss: 0.0372 - acc: 0.9887 - val_loss: 0.0379 - val_acc: 0.9865\n",
            "Epoch 3/10\n",
            "60000/60000 [==============================] - 16s 259us/step - loss: 0.0324 - acc: 0.9905 - val_loss: 0.0346 - val_acc: 0.9887\n",
            "Epoch 4/10\n",
            "60000/60000 [==============================] - 15s 258us/step - loss: 0.0290 - acc: 0.9911 - val_loss: 0.0380 - val_acc: 0.9869\n",
            "Epoch 5/10\n",
            "60000/60000 [==============================] - 15s 258us/step - loss: 0.0260 - acc: 0.9921 - val_loss: 0.0377 - val_acc: 0.9879\n",
            "Epoch 6/10\n",
            "60000/60000 [==============================] - 15s 257us/step - loss: 0.0236 - acc: 0.9925 - val_loss: 0.0397 - val_acc: 0.9878\n",
            "Epoch 7/10\n",
            "60000/60000 [==============================] - 15s 257us/step - loss: 0.0220 - acc: 0.9934 - val_loss: 0.0355 - val_acc: 0.9898\n",
            "Epoch 8/10\n",
            "60000/60000 [==============================] - 15s 258us/step - loss: 0.0198 - acc: 0.9942 - val_loss: 0.0449 - val_acc: 0.9864\n",
            "Epoch 9/10\n",
            "60000/60000 [==============================] - 15s 255us/step - loss: 0.0189 - acc: 0.9940 - val_loss: 0.0398 - val_acc: 0.9876\n",
            "Epoch 10/10\n",
            "60000/60000 [==============================] - 16s 259us/step - loss: 0.0168 - acc: 0.9949 - val_loss: 0.0375 - val_acc: 0.9893\n"
          ],
          "name": "stdout"
        },
        {
          "output_type": "execute_result",
          "data": {
            "text/plain": [
              "<keras.callbacks.History at 0x7f1f06572b00>"
            ]
          },
          "metadata": {
            "tags": []
          },
          "execution_count": 14
        }
      ]
    }
  ]
}